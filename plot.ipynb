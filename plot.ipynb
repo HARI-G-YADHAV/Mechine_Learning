{
 "cells": [
  {
   "cell_type": "code",
   "execution_count": 2,
   "id": "53162c78",
   "metadata": {},
   "outputs": [],
   "source": [
    "import pandas as pd\n",
    "import random\n",
    "import datetime\n"
   ]
  },
  {
   "cell_type": "code",
   "execution_count": 3,
   "id": "36916353",
   "metadata": {},
   "outputs": [],
   "source": [
    "no = 30\n"
   ]
  },
  {
   "cell_type": "code",
   "execution_count": 4,
   "id": "ef6c871d",
   "metadata": {},
   "outputs": [],
   "source": [
    "dates = pd.date_range(start = '01-01-2003', end = '01-01-2004',periods = no)"
   ]
  },
  {
   "cell_type": "code",
   "execution_count": 5,
   "id": "9fa59217",
   "metadata": {},
   "outputs": [],
   "source": [
    "prices = [round(random.uniform(10,100),2) for i in range(no)]"
   ]
  },
  {
   "cell_type": "code",
   "execution_count": 6,
   "id": "27802580",
   "metadata": {},
   "outputs": [],
   "source": [
    "product_id = [random.randint(10,100) for i in range(no)]\n"
   ]
  },
  {
   "cell_type": "code",
   "execution_count": 7,
   "id": "50a7aac9",
   "metadata": {},
   "outputs": [],
   "source": [
    "quantity_purchased = [random.randint(1,10) for i in range(no)]"
   ]
  },
  {
   "cell_type": "code",
   "execution_count": 8,
   "id": "453736f5",
   "metadata": {},
   "outputs": [],
   "source": [
    "serial_no = [f'SN - {random.randint(100,200)}' for i in range(no)]"
   ]
  },
  {
   "cell_type": "code",
   "execution_count": 9,
   "id": "33814f8b",
   "metadata": {},
   "outputs": [],
   "source": [
    "user_id = ['U' + str(random.randint(10,100)) for i in range(no)]"
   ]
  },
  {
   "cell_type": "code",
   "execution_count": 10,
   "id": "5d19c4aa",
   "metadata": {},
   "outputs": [],
   "source": [
    "user_type = ['lower' , 'upper']"
   ]
  },
  {
   "cell_type": "code",
   "execution_count": 11,
   "id": "d1577e75",
   "metadata": {},
   "outputs": [],
   "source": [
    "user_class = ['class A','class B','class C']"
   ]
  },
  {
   "cell_type": "code",
   "execution_count": 12,
   "id": "99f2685b",
   "metadata": {},
   "outputs": [],
   "source": [
    "purchase_week = [date.isocalendar() for date in dates]"
   ]
  },
  {
   "cell_type": "code",
   "execution_count": 13,
   "id": "cc948c20",
   "metadata": {},
   "outputs": [],
   "source": [
    "data = {\n",
    "    'Dates' : dates,\n",
    "    'Prices' : prices,\n",
    "    'Product_id' : product_id,\n",
    "    'Quantity_purchased': quantity_purchased,\n",
    "    'Serial_no': serial_no,\n",
    "    'User_id' : user_id,\n",
    "    'User_type' : random.choices(user_type,k=no),\n",
    "    'User_class' : random.choices(user_class,k=no),\n",
    "    'Purchase_week': purchase_week,\n",
    "}"
   ]
  },
  {
   "cell_type": "code",
   "execution_count": 14,
   "id": "352d0928",
   "metadata": {},
   "outputs": [
    {
     "name": "stdout",
     "output_type": "stream",
     "text": [
      "                           Dates  Prices  Product_id  Quantity_purchased  \\\n",
      "0  2003-01-01 00:00:00.000000000   88.23          36                   2   \n",
      "1  2003-01-13 14:04:08.275862069   71.52          64                   7   \n",
      "2  2003-01-26 04:08:16.551724138   98.63          68                   1   \n",
      "3  2003-02-07 18:12:24.827586207   89.64          56                   2   \n",
      "4  2003-02-20 08:16:33.103448276   69.33          73                  10   \n",
      "5  2003-03-04 22:20:41.379310345   48.70          86                   5   \n",
      "6  2003-03-17 12:24:49.655172414   63.95          78                   2   \n",
      "7  2003-03-30 02:28:57.931034483   13.12          39                   5   \n",
      "8  2003-04-11 16:33:06.206896552   80.91          49                   1   \n",
      "9  2003-04-24 06:37:14.482758620   87.37          84                   1   \n",
      "10 2003-05-06 20:41:22.758620690   57.12          73                   1   \n",
      "11 2003-05-19 10:45:31.034482760   29.84          67                  10   \n",
      "12 2003-06-01 00:49:39.310344828   20.42          16                   5   \n",
      "13 2003-06-13 14:53:47.586206896   71.64          27                   2   \n",
      "14 2003-06-26 04:57:55.862068966   13.47          79                   5   \n",
      "15 2003-07-08 19:02:04.137931036   66.36          56                   4   \n",
      "16 2003-07-21 09:06:12.413793104   61.73          41                   8   \n",
      "17 2003-08-02 23:10:20.689655172   51.13          87                   5   \n",
      "18 2003-08-15 13:14:28.965517240   37.07          73                   4   \n",
      "19 2003-08-28 03:18:37.241379312   25.50          69                   6   \n",
      "20 2003-09-09 17:22:45.517241380   32.70          11                   9   \n",
      "21 2003-09-22 07:26:53.793103448   68.64          88                   7   \n",
      "22 2003-10-04 21:31:02.068965520   68.59          36                   4   \n",
      "23 2003-10-17 11:35:10.344827588   15.68          38                  10   \n",
      "24 2003-10-30 01:39:18.620689656   86.30          72                  10   \n",
      "25 2003-11-11 15:43:26.896551724   15.93          35                   4   \n",
      "26 2003-11-24 05:47:35.172413792   48.06          21                  10   \n",
      "27 2003-12-06 19:51:43.448275864   43.28          57                   3   \n",
      "28 2003-12-19 09:55:51.724137932   86.67          94                   2   \n",
      "29 2004-01-01 00:00:00.000000000   91.99          87                   6   \n",
      "\n",
      "   Serial_no User_id User_type User_class  Purchase_week  \n",
      "0   SN - 171     U17     lower    class A   (2003, 1, 3)  \n",
      "1   SN - 121     U16     lower    class C   (2003, 3, 1)  \n",
      "2   SN - 131     U24     lower    class B   (2003, 4, 7)  \n",
      "3   SN - 172     U26     lower    class B   (2003, 6, 5)  \n",
      "4   SN - 123     U59     upper    class A   (2003, 8, 4)  \n",
      "5   SN - 200     U59     lower    class B  (2003, 10, 2)  \n",
      "6   SN - 191     U31     lower    class C  (2003, 12, 1)  \n",
      "7   SN - 140     U51     lower    class A  (2003, 13, 7)  \n",
      "8   SN - 195     U39     upper    class B  (2003, 15, 5)  \n",
      "9   SN - 114     U93     upper    class C  (2003, 17, 4)  \n",
      "10  SN - 101     U27     lower    class A  (2003, 19, 2)  \n",
      "11  SN - 145     U16     upper    class B  (2003, 21, 1)  \n",
      "12  SN - 121     U34     upper    class A  (2003, 22, 7)  \n",
      "13  SN - 144     U65     upper    class B  (2003, 24, 5)  \n",
      "14  SN - 155     U64     upper    class C  (2003, 26, 4)  \n",
      "15  SN - 149     U75     lower    class C  (2003, 28, 2)  \n",
      "16  SN - 200     U30     lower    class A  (2003, 30, 1)  \n",
      "17  SN - 172     U20     upper    class B  (2003, 31, 6)  \n",
      "18  SN - 152     U93     upper    class B  (2003, 33, 5)  \n",
      "19  SN - 199     U72     upper    class B  (2003, 35, 4)  \n",
      "20  SN - 198     U66     lower    class C  (2003, 37, 2)  \n",
      "21  SN - 180     U89     lower    class B  (2003, 39, 1)  \n",
      "22  SN - 172     U59     upper    class C  (2003, 40, 6)  \n",
      "23  SN - 113     U84     lower    class A  (2003, 42, 5)  \n",
      "24  SN - 129     U35     upper    class B  (2003, 44, 4)  \n",
      "25  SN - 105     U86     upper    class B  (2003, 46, 2)  \n",
      "26  SN - 132     U31     upper    class A  (2003, 48, 1)  \n",
      "27  SN - 132     U55     upper    class A  (2003, 49, 6)  \n",
      "28  SN - 176     U45     lower    class C  (2003, 51, 5)  \n",
      "29  SN - 191     U82     upper    class A   (2004, 1, 4)  \n"
     ]
    }
   ],
   "source": [
    "df = pd.DataFrame(data)\n",
    "print(df)"
   ]
  },
  {
   "cell_type": "code",
   "execution_count": 17,
   "id": "ed3f1e3b",
   "metadata": {},
   "outputs": [
    {
     "data": {
      "image/png": "[encoded data removed]",
      "text/plain": [
       "<Figure size 640x480 with 1 Axes>"
      ]
     },
     "metadata": {},
     "output_type": "display_data"
    }
   ],
   "source": [
    "import matplotlib.pyplot as plt\n",
    "user_id='U96'\n",
    "user_data=df[df['User_id']==user_id]\n",
    "plt.plot(user_data['Dates'],user_data['Prices'])\n",
    "plt.xlabel='date'\n",
    "plt.ylabel='price'\n",
    "plt.title('price trend')\n",
    "plt.show()"
   ]
  },
  {
   "cell_type": "code",
   "execution_count": 45,
   "id": "1f8bc7b8",
   "metadata": {},
   "outputs": [
    {
     "data": {
      "image/png": "[encoded data removed]",
      "text/plain": [
       "<Figure size 640x480 with 1 Axes>"
      ]
     },
     "metadata": {},
     "output_type": "display_data"
    }
   ],
   "source": [
    "plt.scatter(user_data['Dates'],user_data['Prices'],color='red',label='User_id')\n",
    "plt.xlabel='date'\n",
    "plt.ylabel='price'\n",
    "plt.title('price trend')\n",
    "plt.legend()\n",
    "plt.show()"
   ]
  },
  {
   "cell_type": "code",
   "execution_count": null,
   "id": "279365b3",
   "metadata": {},
   "outputs": [],
   "source": []
  }
 ],
 "metadata": {
  "kernelspec": {
   "display_name": "Python 3 (ipykernel)",
   "language": "python",
   "name": "python3"
  },
  "language_info": {
   "codemirror_mode": {
    "name": "ipython",
    "version": 3
   },
   "file_extension": ".py",
   "mimetype": "text/x-python",
   "name": "python",
   "nbconvert_exporter": "python",
   "pygments_lexer": "ipython3",
   "version": "3.10.6"
  }
 },
 "nbformat": 4,
 "nbformat_minor": 5
}
