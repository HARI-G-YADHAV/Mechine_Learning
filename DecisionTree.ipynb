{
 "cells": [
  {
   "cell_type": "code",
   "execution_count": 4,
   "id": "5d9b6576",
   "metadata": {},
   "outputs": [],
   "source": [
    "import  pandas as pd\n",
    "from sklearn.metrics import accuracy_score\n",
    "from sklearn.model_selection import train_test_split\n",
    "from sklearn.tree import DecisionTreeClassifier"
   ]
  },
  {
   "cell_type": "code",
   "execution_count": 7,
   "id": "d0e04eb0",
   "metadata": {},
   "outputs": [],
   "source": [
    "df=pd.read_csv('doc/diabetes.csv')"
   ]
  },
  {
   "cell_type": "code",
   "execution_count": 22,
   "id": "3182df7c",
   "metadata": {},
   "outputs": [
    {
     "name": "stdout",
     "output_type": "stream",
     "text": [
      "0.7552083333333334\n"
     ]
    }
   ],
   "source": [
    "colums=['Pregnancies', 'Insulin', 'BMI', 'Age', 'Glucose',\n",
    "'BloodPressure', 'DiabetesPedigreeFunction']\n",
    "X=df[colums]\n",
    "Y=df.Outcome\n",
    "x_train,x_test,y_train,y_test=train_test_split(X,Y)\n",
    "c=DecisionTreeClassifier()\n",
    "c.fit(x_train,y_train)\n",
    "pred=c.predict(x_test)\n",
    "print(accuracy_score(y_test,pred))"
   ]
  }
 ],
 "metadata": {
  "kernelspec": {
   "display_name": "Python 3 (ipykernel)",
   "language": "python",
   "name": "python3"
  },
  "language_info": {
   "codemirror_mode": {
    "name": "ipython",
    "version": 3
   },
   "file_extension": ".py",
   "mimetype": "text/x-python",
   "name": "python",
   "nbconvert_exporter": "python",
   "pygments_lexer": "ipython3",
   "version": "3.10.6"
  }
 },
 "nbformat": 4,
 "nbformat_minor": 5
}
