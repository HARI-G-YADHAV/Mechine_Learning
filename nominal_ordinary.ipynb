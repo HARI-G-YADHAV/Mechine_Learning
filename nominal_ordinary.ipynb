{
 "cells": [
  {
   "cell_type": "code",
   "execution_count": 1,
   "id": "50fa519a",
   "metadata": {},
   "outputs": [],
   "source": [
    "import pandas as pd\n",
    "df=pd.read_csv('doc/pokemon.csv')"
   ]
  },
  {
   "cell_type": "code",
   "execution_count": 3,
   "id": "300eee6a",
   "metadata": {},
   "outputs": [],
   "source": [
    "nominal=pd.get_dummies(df['Generation'])"
   ]
  },
  {
   "cell_type": "code",
   "execution_count": 4,
   "id": "fd971dc5",
   "metadata": {},
   "outputs": [],
   "source": [
    "map_ordinal={\n",
    "    'Gen1':1,'Gen2':2,'Gen3':3,'Gen3':4,'Gen5':5,'Gen6':6,\n",
    "}"
   ]
  },
  {
   "cell_type": "code",
   "execution_count": 5,
   "id": "24c76deb",
   "metadata": {},
   "outputs": [],
   "source": [
    "df[\"Gen label\"]=df['Generation'].map(map_ordinal)"
   ]
  },
  {
   "cell_type": "code",
   "execution_count": 6,
   "id": "46b8a16e",
   "metadata": {},
   "outputs": [
    {
     "name": "stdout",
     "output_type": "stream",
     "text": [
      "0     NaN\n",
      "1     NaN\n",
      "2     NaN\n",
      "3     NaN\n",
      "4     NaN\n",
      "       ..\n",
      "795   NaN\n",
      "796   NaN\n",
      "797   NaN\n",
      "798   NaN\n",
      "799   NaN\n",
      "Name: Gen label, Length: 800, dtype: float64\n"
     ]
    }
   ],
   "source": []
  },
  {
   "cell_type": "code",
   "execution_count": 7,
   "id": "367cbc4e",
   "metadata": {},
   "outputs": [],
   "source": [
    "category=[\"Generation\",\"Legendary\"]"
   ]
  },
  {
   "cell_type": "code",
   "execution_count": 8,
   "id": "3ccd7882",
   "metadata": {},
   "outputs": [],
   "source": [
    "encode=pd.get_dummies(df[category])"
   ]
  },
  {
   "cell_type": "code",
   "execution_count": 12,
   "id": "d24734e7",
   "metadata": {},
   "outputs": [],
   "source": [
    "data=pd.concat([df,nominal,encode],axis=0)\n"
   ]
  },
  {
   "cell_type": "code",
   "execution_count": 15,
   "id": "7916fd90",
   "metadata": {},
   "outputs": [
    {
     "name": "stdout",
     "output_type": "stream",
     "text": [
      "     #                       Name Type 1  Type 2  Total    HP  Attack  \\\n",
      "0  1.0                  Bulbasaur  Grass  Poison  318.0  45.0    49.0   \n",
      "1  2.0                    Ivysaur  Grass  Poison  405.0  60.0    62.0   \n",
      "2  3.0                   Venusaur  Grass  Poison  525.0  80.0    82.0   \n",
      "3  3.0      VenusaurMega Venusaur  Grass  Poison  625.0  80.0   100.0   \n",
      "4  4.0                 Charmander   Fire     NaN  309.0  39.0    52.0   \n",
      "5  5.0                 Charmeleon   Fire     NaN  405.0  58.0    64.0   \n",
      "6  6.0                  Charizard   Fire  Flying  534.0  78.0    84.0   \n",
      "7  6.0  CharizardMega Charizard X   Fire  Dragon  634.0  78.0   130.0   \n",
      "8  6.0  CharizardMega Charizard Y   Fire  Flying  634.0  78.0   104.0   \n",
      "9  7.0                   Squirtle  Water     NaN  314.0  44.0    48.0   \n",
      "\n",
      "   Defense  Sp. Atk  Sp. Def  Speed  Generation Legendary  Gen label    1  \\\n",
      "0     49.0     65.0     65.0   45.0         1.0     False        NaN  NaN   \n",
      "1     63.0     80.0     80.0   60.0         1.0     False        NaN  NaN   \n",
      "2     83.0    100.0    100.0   80.0         1.0     False        NaN  NaN   \n",
      "3    123.0    122.0    120.0   80.0         1.0     False        NaN  NaN   \n",
      "4     43.0     60.0     50.0   65.0         1.0     False        NaN  NaN   \n",
      "5     58.0     80.0     65.0   80.0         1.0     False        NaN  NaN   \n",
      "6     78.0    109.0     85.0  100.0         1.0     False        NaN  NaN   \n",
      "7    111.0    130.0     85.0  100.0         1.0     False        NaN  NaN   \n",
      "8     78.0    159.0    115.0  100.0         1.0     False        NaN  NaN   \n",
      "9     65.0     50.0     64.0   43.0         1.0     False        NaN  NaN   \n",
      "\n",
      "     2    3    4    5    6  \n",
      "0  NaN  NaN  NaN  NaN  NaN  \n",
      "1  NaN  NaN  NaN  NaN  NaN  \n",
      "2  NaN  NaN  NaN  NaN  NaN  \n",
      "3  NaN  NaN  NaN  NaN  NaN  \n",
      "4  NaN  NaN  NaN  NaN  NaN  \n",
      "5  NaN  NaN  NaN  NaN  NaN  \n",
      "6  NaN  NaN  NaN  NaN  NaN  \n",
      "7  NaN  NaN  NaN  NaN  NaN  \n",
      "8  NaN  NaN  NaN  NaN  NaN  \n",
      "9  NaN  NaN  NaN  NaN  NaN  \n"
     ]
    }
   ],
   "source": [
    "print(data.head(10))"
   ]
  },
  {
   "cell_type": "code",
   "execution_count": null,
   "id": "d42103e2",
   "metadata": {},
   "outputs": [],
   "source": []
  }
 ],
 "metadata": {
  "kernelspec": {
   "display_name": "Python 3 (ipykernel)",
   "language": "python",
   "name": "python3"
  },
  "language_info": {
   "codemirror_mode": {
    "name": "ipython",
    "version": 3
   },
   "file_extension": ".py",
   "mimetype": "text/x-python",
   "name": "python",
   "nbconvert_exporter": "python",
   "pygments_lexer": "ipython3",
   "version": "3.10.6"
  }
 },
 "nbformat": 4,
 "nbformat_minor": 5
}
